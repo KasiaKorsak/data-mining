{
 "cells": [
  {
   "cell_type": "code",
   "execution_count": null,
   "metadata": {},
   "outputs": [],
   "source": [
    "import pandas as pd\n",
    "import numpy as np"
   ]
  },
  {
   "cell_type": "code",
   "execution_count": null,
   "metadata": {},
   "outputs": [],
   "source": [
    "seeds = pd.read_csv(\"https://raw.githubusercontent.com/aniku10/dataMining/master/seeds_dataset.csv\", sep=\";\", names=[\"area A\",\n",
    "\"perimeter P\",\n",
    "\"compactness C\",\n",
    "\"length of kernel\",\n",
    "\"width of kernel\",\n",
    "\"asymmetry coefficient\",\n",
    "\"length of kernel groove\",\n",
    "\"class\"])"
   ]
  },
  {
   "cell_type": "code",
   "execution_count": null,
   "metadata": {},
   "outputs": [],
   "source": [
    "classes = seeds['class']\n",
    "samples = seeds.drop(['class'], axis=1)"
   ]
  },
  {
   "cell_type": "code",
   "execution_count": null,
   "metadata": {},
   "outputs": [],
   "source": [
    "# Import KMeans\n",
    "from sklearn.cluster import KMeans\n",
    "# Import pyplot\n",
    "import matplotlib.pyplot as plt\n",
    "\n",
    "ks = range(1, 10)\n",
    "inertias = []\n",
    "\n",
    "for k in ks:\n",
    "    # Create a KMeans instance with k clusters: model\n",
    "    model = KMeans(n_clusters = k)\n",
    "    \n",
    "    # Fit model to samples\n",
    "    model.fit(samples)\n",
    "    \n",
    "    # Append the inertia to the list of inertias\n",
    "    # inertia = within-cluster sum-of-squares\n",
    "    inertias.append(model.inertia_)\n",
    "    \n",
    "# Plot ks vs inertias\n",
    "plt.rcParams[\"figure.figsize\"] = (6,6)\n",
    "plt.plot(ks, inertias, '-o')\n",
    "plt.xlabel('number of clusters, k')\n",
    "plt.ylabel('inertia')\n",
    "plt.xticks(ks)\n",
    "plt.show()"
   ]
  },
  {
   "cell_type": "code",
   "execution_count": null,
   "metadata": {},
   "outputs": [],
   "source": [
    "# Create a KMeans model with 3 clusters: model\n",
    "model = KMeans(n_clusters=3)\n",
    "\n",
    "# Use fit_predict to fit model and obtain cluster labels: labels\n",
    "labels = model.fit_predict(samples)\n",
    "\n",
    "# Create a DataFrame with labels and varieties as columns: df\n",
    "df = pd.DataFrame({'labels': labels, 'classes': classes})\n",
    "\n",
    "# Create crosstab: ct\n",
    "ct = pd.crosstab(df['labels'], df['classes'])\n",
    "\n",
    "# Display ct\n",
    "print(ct)"
   ]
  },
  {
   "cell_type": "code",
   "execution_count": null,
   "metadata": {},
   "outputs": [],
   "source": [
    "# Perform the necessary imports\n",
    "from sklearn.pipeline import make_pipeline\n",
    "from sklearn.preprocessing import StandardScaler\n",
    "#from sklearn.cluster import KMeans\n",
    "\n",
    "# Create scaler: scaler\n",
    "scaler = StandardScaler()\n",
    "\n",
    "# Create KMeans instance: kmeans\n",
    "kmeans = KMeans(n_clusters = 3)\n",
    "\n",
    "# Create pipeline: pipeline\n",
    "pipeline = make_pipeline(scaler,kmeans)\n",
    "\n",
    "# Import pandas\n",
    "import pandas as pd\n",
    "\n",
    "# Fit the pipeline to samples\n",
    "pipeline.fit(samples)\n",
    "\n",
    "# Calculate the cluster labels: labels\n",
    "labels = pipeline.predict(samples)\n",
    "\n",
    "# Create a DataFrame with labels and species as columns: df\n",
    "df = pd.DataFrame({'labels': labels, 'classes': classes})\n",
    "\n",
    "# Create crosstab: ct\n",
    "ct = pd.crosstab(df['labels'], df['classes'])\n",
    "\n",
    "# Display ct\n",
    "print(ct)"
   ]
  },
  {
   "cell_type": "code",
   "execution_count": 33,
   "metadata": {
    "ExecuteTime": {
     "end_time": "2020-07-02T14:29:13.577584Z",
     "start_time": "2020-07-02T14:29:13.566584Z"
    }
   },
   "outputs": [],
   "source": [
    "import numpy as np\n",
    "import pandas as pd\n",
    "from sklearn import preprocessing\n",
    "from sklearn.preprocessing import LabelEncoder\n",
    "from sklearn.model_selection import train_test_split\n",
    "from sklearn.neighbors import KNeighborsClassifier\n",
    "from sklearn.metrics import precision_score\n",
    "from sklearn import metrics\n",
    "from sklearn.metrics import classification_report\n",
    "from sklearn.preprocessing import LabelEncoder\n",
    "import matplotlib.pyplot as plt\n",
    "import pandas as pd\n",
    "from sklearn import datasets, neighbors\n",
    "from mlxtend.plotting import plot_decision_regions"
   ]
  },
  {
   "cell_type": "code",
   "execution_count": 34,
   "metadata": {
    "ExecuteTime": {
     "end_time": "2020-07-02T14:29:14.161584Z",
     "start_time": "2020-07-02T14:29:13.580586Z"
    }
   },
   "outputs": [],
   "source": [
    "seeds = pd.read_csv(\"https://raw.githubusercontent.com/aniku10/dataMining/master/seeds_dataset.csv\", sep=\";\", names=[\"area A\",\n",
    "\"perimeter P\",\n",
    "\"compactness C\",\n",
    "\"length of kernel\",\n",
    "\"width of kernel\",\n",
    "\"asymmetry coefficient\",\n",
    "\"length of kernel groove\",\n",
    "\"class\"])"
   ]
  },
  {
   "cell_type": "code",
   "execution_count": 35,
   "metadata": {
    "ExecuteTime": {
     "end_time": "2020-07-02T14:29:14.180584Z",
     "start_time": "2020-07-02T14:29:14.163589Z"
    }
   },
   "outputs": [
    {
     "data": {
      "text/html": [
       "<div>\n",
       "<style scoped>\n",
       "    .dataframe tbody tr th:only-of-type {\n",
       "        vertical-align: middle;\n",
       "    }\n",
       "\n",
       "    .dataframe tbody tr th {\n",
       "        vertical-align: top;\n",
       "    }\n",
       "\n",
       "    .dataframe thead th {\n",
       "        text-align: right;\n",
       "    }\n",
       "</style>\n",
       "<table border=\"1\" class=\"dataframe\">\n",
       "  <thead>\n",
       "    <tr style=\"text-align: right;\">\n",
       "      <th></th>\n",
       "      <th>area A</th>\n",
       "      <th>perimeter P</th>\n",
       "      <th>compactness C</th>\n",
       "      <th>length of kernel</th>\n",
       "      <th>width of kernel</th>\n",
       "      <th>asymmetry coefficient</th>\n",
       "      <th>length of kernel groove</th>\n",
       "      <th>class</th>\n",
       "    </tr>\n",
       "  </thead>\n",
       "  <tbody>\n",
       "    <tr>\n",
       "      <th>0</th>\n",
       "      <td>15.26</td>\n",
       "      <td>14.84</td>\n",
       "      <td>0.8710</td>\n",
       "      <td>5.763</td>\n",
       "      <td>3.312</td>\n",
       "      <td>2.221</td>\n",
       "      <td>5.220</td>\n",
       "      <td>1</td>\n",
       "    </tr>\n",
       "    <tr>\n",
       "      <th>1</th>\n",
       "      <td>14.88</td>\n",
       "      <td>14.57</td>\n",
       "      <td>0.8811</td>\n",
       "      <td>5.554</td>\n",
       "      <td>3.333</td>\n",
       "      <td>1.018</td>\n",
       "      <td>4.956</td>\n",
       "      <td>1</td>\n",
       "    </tr>\n",
       "    <tr>\n",
       "      <th>2</th>\n",
       "      <td>14.29</td>\n",
       "      <td>14.09</td>\n",
       "      <td>0.9050</td>\n",
       "      <td>5.291</td>\n",
       "      <td>3.337</td>\n",
       "      <td>2.699</td>\n",
       "      <td>4.825</td>\n",
       "      <td>1</td>\n",
       "    </tr>\n",
       "    <tr>\n",
       "      <th>3</th>\n",
       "      <td>13.84</td>\n",
       "      <td>13.94</td>\n",
       "      <td>0.8955</td>\n",
       "      <td>5.324</td>\n",
       "      <td>3.379</td>\n",
       "      <td>2.259</td>\n",
       "      <td>4.805</td>\n",
       "      <td>1</td>\n",
       "    </tr>\n",
       "    <tr>\n",
       "      <th>4</th>\n",
       "      <td>16.14</td>\n",
       "      <td>14.99</td>\n",
       "      <td>0.9034</td>\n",
       "      <td>5.658</td>\n",
       "      <td>3.562</td>\n",
       "      <td>1.355</td>\n",
       "      <td>5.175</td>\n",
       "      <td>1</td>\n",
       "    </tr>\n",
       "  </tbody>\n",
       "</table>\n",
       "</div>"
      ],
      "text/plain": [
       "   area A  perimeter P  compactness C  length of kernel  width of kernel  \\\n",
       "0   15.26        14.84         0.8710             5.763            3.312   \n",
       "1   14.88        14.57         0.8811             5.554            3.333   \n",
       "2   14.29        14.09         0.9050             5.291            3.337   \n",
       "3   13.84        13.94         0.8955             5.324            3.379   \n",
       "4   16.14        14.99         0.9034             5.658            3.562   \n",
       "\n",
       "   asymmetry coefficient  length of kernel groove  class  \n",
       "0                  2.221                    5.220      1  \n",
       "1                  1.018                    4.956      1  \n",
       "2                  2.699                    4.825      1  \n",
       "3                  2.259                    4.805      1  \n",
       "4                  1.355                    5.175      1  "
      ]
     },
     "execution_count": 35,
     "metadata": {},
     "output_type": "execute_result"
    }
   ],
   "source": [
    "seeds.head()"
   ]
  },
  {
   "cell_type": "code",
   "execution_count": 36,
   "metadata": {
    "ExecuteTime": {
     "end_time": "2020-07-02T14:29:14.192606Z",
     "start_time": "2020-07-02T14:29:14.182585Z"
    }
   },
   "outputs": [
    {
     "name": "stdout",
     "output_type": "stream",
     "text": [
      "<class 'pandas.core.frame.DataFrame'>\n",
      "RangeIndex: 209 entries, 0 to 208\n",
      "Data columns (total 8 columns):\n",
      " #   Column                   Non-Null Count  Dtype  \n",
      "---  ------                   --------------  -----  \n",
      " 0   area A                   209 non-null    float64\n",
      " 1   perimeter P              209 non-null    float64\n",
      " 2   compactness C            209 non-null    float64\n",
      " 3   length of kernel         209 non-null    float64\n",
      " 4   width of kernel          209 non-null    float64\n",
      " 5   asymmetry coefficient    209 non-null    float64\n",
      " 6   length of kernel groove  209 non-null    float64\n",
      " 7   class                    209 non-null    int64  \n",
      "dtypes: float64(7), int64(1)\n",
      "memory usage: 13.2 KB\n"
     ]
    }
   ],
   "source": [
    "seeds.info()"
   ]
  },
  {
   "cell_type": "code",
   "execution_count": 37,
   "metadata": {
    "ExecuteTime": {
     "end_time": "2020-07-02T14:29:14.236601Z",
     "start_time": "2020-07-02T14:29:14.194587Z"
    }
   },
   "outputs": [
    {
     "data": {
      "text/html": [
       "<div>\n",
       "<style scoped>\n",
       "    .dataframe tbody tr th:only-of-type {\n",
       "        vertical-align: middle;\n",
       "    }\n",
       "\n",
       "    .dataframe tbody tr th {\n",
       "        vertical-align: top;\n",
       "    }\n",
       "\n",
       "    .dataframe thead th {\n",
       "        text-align: right;\n",
       "    }\n",
       "</style>\n",
       "<table border=\"1\" class=\"dataframe\">\n",
       "  <thead>\n",
       "    <tr style=\"text-align: right;\">\n",
       "      <th></th>\n",
       "      <th>area A</th>\n",
       "      <th>perimeter P</th>\n",
       "      <th>compactness C</th>\n",
       "      <th>length of kernel</th>\n",
       "      <th>width of kernel</th>\n",
       "      <th>asymmetry coefficient</th>\n",
       "      <th>length of kernel groove</th>\n",
       "      <th>class</th>\n",
       "    </tr>\n",
       "  </thead>\n",
       "  <tbody>\n",
       "    <tr>\n",
       "      <th>count</th>\n",
       "      <td>209.000000</td>\n",
       "      <td>209.000000</td>\n",
       "      <td>209.000000</td>\n",
       "      <td>209.000000</td>\n",
       "      <td>209.000000</td>\n",
       "      <td>209.000000</td>\n",
       "      <td>209.000000</td>\n",
       "      <td>209.000000</td>\n",
       "    </tr>\n",
       "    <tr>\n",
       "      <th>mean</th>\n",
       "      <td>14.859713</td>\n",
       "      <td>14.565120</td>\n",
       "      <td>0.871248</td>\n",
       "      <td>5.630378</td>\n",
       "      <td>3.259967</td>\n",
       "      <td>3.690934</td>\n",
       "      <td>5.409722</td>\n",
       "      <td>1.995215</td>\n",
       "    </tr>\n",
       "    <tr>\n",
       "      <th>std</th>\n",
       "      <td>2.911306</td>\n",
       "      <td>1.306348</td>\n",
       "      <td>0.023408</td>\n",
       "      <td>0.443318</td>\n",
       "      <td>0.378104</td>\n",
       "      <td>1.501144</td>\n",
       "      <td>0.492076</td>\n",
       "      <td>0.817463</td>\n",
       "    </tr>\n",
       "    <tr>\n",
       "      <th>min</th>\n",
       "      <td>10.590000</td>\n",
       "      <td>12.410000</td>\n",
       "      <td>0.808100</td>\n",
       "      <td>4.899000</td>\n",
       "      <td>2.630000</td>\n",
       "      <td>0.765100</td>\n",
       "      <td>4.519000</td>\n",
       "      <td>1.000000</td>\n",
       "    </tr>\n",
       "    <tr>\n",
       "      <th>25%</th>\n",
       "      <td>12.260000</td>\n",
       "      <td>13.450000</td>\n",
       "      <td>0.857500</td>\n",
       "      <td>5.263000</td>\n",
       "      <td>2.941000</td>\n",
       "      <td>2.553000</td>\n",
       "      <td>5.045000</td>\n",
       "      <td>1.000000</td>\n",
       "    </tr>\n",
       "    <tr>\n",
       "      <th>50%</th>\n",
       "      <td>14.370000</td>\n",
       "      <td>14.350000</td>\n",
       "      <td>0.873500</td>\n",
       "      <td>5.527000</td>\n",
       "      <td>3.242000</td>\n",
       "      <td>3.598000</td>\n",
       "      <td>5.224000</td>\n",
       "      <td>2.000000</td>\n",
       "    </tr>\n",
       "    <tr>\n",
       "      <th>75%</th>\n",
       "      <td>17.320000</td>\n",
       "      <td>15.730000</td>\n",
       "      <td>0.887900</td>\n",
       "      <td>5.980000</td>\n",
       "      <td>3.562000</td>\n",
       "      <td>4.756000</td>\n",
       "      <td>5.877000</td>\n",
       "      <td>3.000000</td>\n",
       "    </tr>\n",
       "    <tr>\n",
       "      <th>max</th>\n",
       "      <td>21.180000</td>\n",
       "      <td>17.250000</td>\n",
       "      <td>0.918300</td>\n",
       "      <td>6.675000</td>\n",
       "      <td>4.033000</td>\n",
       "      <td>8.456000</td>\n",
       "      <td>6.550000</td>\n",
       "      <td>3.000000</td>\n",
       "    </tr>\n",
       "  </tbody>\n",
       "</table>\n",
       "</div>"
      ],
      "text/plain": [
       "           area A  perimeter P  compactness C  length of kernel  \\\n",
       "count  209.000000   209.000000     209.000000        209.000000   \n",
       "mean    14.859713    14.565120       0.871248          5.630378   \n",
       "std      2.911306     1.306348       0.023408          0.443318   \n",
       "min     10.590000    12.410000       0.808100          4.899000   \n",
       "25%     12.260000    13.450000       0.857500          5.263000   \n",
       "50%     14.370000    14.350000       0.873500          5.527000   \n",
       "75%     17.320000    15.730000       0.887900          5.980000   \n",
       "max     21.180000    17.250000       0.918300          6.675000   \n",
       "\n",
       "       width of kernel  asymmetry coefficient  length of kernel groove  \\\n",
       "count       209.000000             209.000000               209.000000   \n",
       "mean          3.259967               3.690934                 5.409722   \n",
       "std           0.378104               1.501144                 0.492076   \n",
       "min           2.630000               0.765100                 4.519000   \n",
       "25%           2.941000               2.553000                 5.045000   \n",
       "50%           3.242000               3.598000                 5.224000   \n",
       "75%           3.562000               4.756000                 5.877000   \n",
       "max           4.033000               8.456000                 6.550000   \n",
       "\n",
       "            class  \n",
       "count  209.000000  \n",
       "mean     1.995215  \n",
       "std      0.817463  \n",
       "min      1.000000  \n",
       "25%      1.000000  \n",
       "50%      2.000000  \n",
       "75%      3.000000  \n",
       "max      3.000000  "
      ]
     },
     "execution_count": 37,
     "metadata": {},
     "output_type": "execute_result"
    }
   ],
   "source": [
    "seeds.describe()"
   ]
  },
  {
   "cell_type": "code",
   "execution_count": 38,
   "metadata": {
    "ExecuteTime": {
     "end_time": "2020-07-02T14:29:14.245586Z",
     "start_time": "2020-07-02T14:29:14.239586Z"
    }
   },
   "outputs": [],
   "source": [
    "X = seeds.drop(columns=\"class\")\n",
    "y = seeds.loc[:, \"class\"]"
   ]
  },
  {
   "cell_type": "code",
   "execution_count": 39,
   "metadata": {
    "ExecuteTime": {
     "end_time": "2020-07-02T14:29:14.260583Z",
     "start_time": "2020-07-02T14:29:14.248588Z"
    }
   },
   "outputs": [
    {
     "data": {
      "text/plain": [
       "array([[0.66271789, 0.64447795, 0.03782617, ..., 0.14383497, 0.09645455,\n",
       "        0.22669642],\n",
       "       [0.66410726, 0.65027169, 0.03932425, ..., 0.14875467, 0.04543422,\n",
       "        0.22119056],\n",
       "       [0.65688362, 0.64769001, 0.0416011 , ..., 0.15339543, 0.1240678 ,\n",
       "        0.2217959 ],\n",
       "       ...,\n",
       "       [0.58321836, 0.6689094 , 0.04613294, ..., 0.14515542, 0.22461437,\n",
       "        0.2598256 ],\n",
       "       [0.59382062, 0.61451437, 0.03833292, ..., 0.14539608, 0.374062  ,\n",
       "        0.22745129],\n",
       "       [0.60057831, 0.6700709 , 0.04404917, ..., 0.14385474, 0.18250682,\n",
       "        0.25585447]])"
      ]
     },
     "execution_count": 39,
     "metadata": {},
     "output_type": "execute_result"
    }
   ],
   "source": [
    "X = preprocessing.normalize(X)\n",
    "X"
   ]
  },
  {
   "cell_type": "code",
   "execution_count": 40,
   "metadata": {
    "ExecuteTime": {
     "end_time": "2020-07-02T14:29:14.274585Z",
     "start_time": "2020-07-02T14:29:14.265584Z"
    }
   },
   "outputs": [
    {
     "data": {
      "text/plain": [
       "array([0, 0, 0, 0, 0, 0, 0, 0, 0, 0, 0, 0, 0, 0, 0, 0, 0, 0, 0, 0, 0, 0,\n",
       "       0, 0, 0, 0, 0, 0, 0, 0, 0, 0, 0, 0, 0, 0, 0, 0, 0, 0, 0, 0, 0, 0,\n",
       "       0, 0, 0, 0, 0, 0, 0, 0, 0, 0, 0, 0, 0, 0, 0, 0, 0, 0, 0, 0, 0, 0,\n",
       "       0, 0, 0, 0, 1, 1, 1, 1, 1, 1, 1, 1, 1, 1, 1, 1, 1, 1, 1, 1, 1, 1,\n",
       "       1, 1, 1, 1, 1, 1, 1, 1, 1, 1, 1, 1, 1, 1, 1, 1, 1, 1, 1, 1, 1, 1,\n",
       "       1, 1, 1, 1, 1, 1, 1, 1, 1, 1, 1, 1, 1, 1, 1, 1, 1, 1, 1, 1, 1, 1,\n",
       "       1, 1, 1, 1, 1, 1, 1, 1, 2, 2, 2, 2, 2, 2, 2, 2, 2, 2, 2, 2, 2, 2,\n",
       "       2, 2, 2, 2, 2, 2, 2, 2, 2, 2, 2, 2, 2, 2, 2, 2, 2, 2, 2, 2, 2, 2,\n",
       "       2, 2, 2, 2, 2, 2, 2, 2, 2, 2, 2, 2, 2, 2, 2, 2, 2, 2, 2, 2, 2, 2,\n",
       "       2, 2, 2, 2, 2, 2, 2, 2, 2, 2, 2], dtype=int64)"
      ]
     },
     "execution_count": 40,
     "metadata": {},
     "output_type": "execute_result"
    }
   ],
   "source": [
    "encoder = LabelEncoder()\n",
    "\n",
    "category = seeds.loc[:, \"class\"]\n",
    "category\n",
    "encoder.fit(category)\n",
    "binarized_category = encoder.transform(category)\n",
    "binarized_category\n",
    "y = binarized_category\n",
    "y"
   ]
  },
  {
   "cell_type": "code",
   "execution_count": 41,
   "metadata": {
    "ExecuteTime": {
     "end_time": "2020-07-02T14:29:14.287585Z",
     "start_time": "2020-07-02T14:29:14.278583Z"
    }
   },
   "outputs": [
    {
     "data": {
      "text/plain": [
       "array([1], dtype=int64)"
      ]
     },
     "execution_count": 41,
     "metadata": {},
     "output_type": "execute_result"
    }
   ],
   "source": [
    "encoder.inverse_transform([0])"
   ]
  },
  {
   "cell_type": "code",
   "execution_count": 42,
   "metadata": {
    "ExecuteTime": {
     "end_time": "2020-07-02T14:29:14.302589Z",
     "start_time": "2020-07-02T14:29:14.290586Z"
    }
   },
   "outputs": [
    {
     "name": "stdout",
     "output_type": "stream",
     "text": [
      "Zbiór treningowy: (156, 7) (156,)\n",
      "Zbiór testowy: (53, 7) (53,)\n"
     ]
    }
   ],
   "source": [
    "train_X, test_X, train_y, test_y = train_test_split(X, y, test_size=0.25, random_state=5)\n",
    "\n",
    "print(\"Zbiór treningowy:\", train_X.shape, train_y.shape)\n",
    "print(\"Zbiór testowy:\", test_X.shape, test_y.shape)"
   ]
  },
  {
   "cell_type": "code",
   "execution_count": 43,
   "metadata": {
    "ExecuteTime": {
     "end_time": "2020-07-02T14:29:14.314585Z",
     "start_time": "2020-07-02T14:29:14.304584Z"
    }
   },
   "outputs": [
    {
     "data": {
      "text/plain": [
       "KNeighborsClassifier(algorithm='auto', leaf_size=30, metric='minkowski',\n",
       "                     metric_params=None, n_jobs=None, n_neighbors=5, p=2,\n",
       "                     weights='uniform')"
      ]
     },
     "execution_count": 43,
     "metadata": {},
     "output_type": "execute_result"
    }
   ],
   "source": [
    "knn = KNeighborsClassifier()\n",
    "\n",
    "knn.fit(train_X, train_y)"
   ]
  },
  {
   "cell_type": "code",
   "execution_count": 44,
   "metadata": {
    "ExecuteTime": {
     "end_time": "2020-07-02T14:29:14.332602Z",
     "start_time": "2020-07-02T14:29:14.318591Z"
    }
   },
   "outputs": [
    {
     "data": {
      "text/plain": [
       "array([0, 0, 1, 1, 0, 2, 1, 0, 0, 2, 2, 0, 0, 1, 1, 2, 2, 2, 1, 1, 1, 2,\n",
       "       0, 2, 1, 0, 2, 1, 2, 0, 0, 2, 2, 2, 1, 2, 0, 2, 1, 2, 0, 1, 2, 0,\n",
       "       0, 0, 0, 0, 1, 1, 2, 0, 1], dtype=int64)"
      ]
     },
     "execution_count": 44,
     "metadata": {},
     "output_type": "execute_result"
    }
   ],
   "source": [
    "predicted_y = knn.predict(test_X)\n",
    "predicted_y"
   ]
  },
  {
   "cell_type": "code",
   "execution_count": 45,
   "metadata": {
    "ExecuteTime": {
     "end_time": "2020-07-02T14:29:14.358586Z",
     "start_time": "2020-07-02T14:29:14.335590Z"
    }
   },
   "outputs": [
    {
     "name": "stdout",
     "output_type": "stream",
     "text": [
      "The accuracy of the KNN is 0.9056603773584906\n",
      "              precision    recall  f1-score   support\n",
      "\n",
      "           1       0.89      0.85      0.87        20\n",
      "           2       0.94      1.00      0.97        15\n",
      "           3       0.89      0.89      0.89        18\n",
      "\n",
      "    accuracy                           0.91        53\n",
      "   macro avg       0.91      0.91      0.91        53\n",
      "weighted avg       0.90      0.91      0.90        53\n",
      "\n"
     ]
    }
   ],
   "source": [
    "prediction=knn.predict(test_X)\n",
    "print('The accuracy of the KNN is',metrics.accuracy_score(prediction,test_y))\n",
    "print(classification_report(encoder.inverse_transform(test_y), encoder.inverse_transform(predicted_y)))"
   ]
  },
  {
   "cell_type": "code",
   "execution_count": 46,
   "metadata": {
    "ExecuteTime": {
     "end_time": "2020-07-02T14:29:14.369585Z",
     "start_time": "2020-07-02T14:29:14.361585Z"
    }
   },
   "outputs": [],
   "source": [
    "def knn_comparison(data, selected_feature_pair, k):\n",
    "    x = data[selected_feature_pair].values\n",
    "\n",
    "    encoder = LabelEncoder()\n",
    "    y = encoder.fit_transform(data['class'])\n",
    "\n",
    "    model = neighbors.KNeighborsClassifier(n_neighbors=k)\n",
    "    model.fit(x, y)\n",
    "\n",
    "    # Wizualizacja regionów decyzyjnych\n",
    "    plot_decision_regions(x, y, clf=model, legend=2)\n",
    "  \n",
    "    # Oznaczenie osi\n",
    "    plt.xlabel(selected_feature_pair[0])\n",
    "    plt.ylabel(selected_feature_pair[1])\n",
    "    plt.title('KNN dla k='+ str(k))\n",
    "    plt.show()"
   ]
  },
  {
   "cell_type": "code",
   "execution_count": 47,
   "metadata": {
    "ExecuteTime": {
     "end_time": "2020-07-02T14:29:18.250387Z",
     "start_time": "2020-07-02T14:29:14.373587Z"
    }
   },
   "outputs": [
    {
     "data": {
      "image/png": "[encoded data removed]",
      "text/plain": [
       "<Figure size 432x288 with 1 Axes>"
      ]
     },
     "metadata": {
      "needs_background": "light"
     },
     "output_type": "display_data"
    }
   ],
   "source": [
    "knn_comparison(seeds, ['length of kernel', 'width of kernel'], 3)"
   ]
  }
 ],
 "metadata": {
  "colab": {
   "collapsed_sections": [],
   "name": "Zadanie_lab4.ipynb",
   "provenance": []
  },
  "kernelspec": {
   "display_name": "Python 3",
   "language": "python",
   "name": "python3"
  },
  "language_info": {
   "codemirror_mode": {
    "name": "ipython",
    "version": 3
   },
   "file_extension": ".py",
   "mimetype": "text/x-python",
   "name": "python",
   "nbconvert_exporter": "python",
   "pygments_lexer": "ipython3",
   "version": "3.8.3"
  },
  "toc": {
   "base_numbering": 1,
   "nav_menu": {},
   "number_sections": true,
   "sideBar": true,
   "skip_h1_title": false,
   "title_cell": "Table of Contents",
   "title_sidebar": "Contents",
   "toc_cell": false,
   "toc_position": {},
   "toc_section_display": true,
   "toc_window_display": false
  },
  "varInspector": {
   "cols": {
    "lenName": 16,
    "lenType": 16,
    "lenVar": 40
   },
   "kernels_config": {
    "python": {
     "delete_cmd_postfix": "",
     "delete_cmd_prefix": "del ",
     "library": "var_list.py",
     "varRefreshCmd": "print(var_dic_list())"
    },
    "r": {
     "delete_cmd_postfix": ") ",
     "delete_cmd_prefix": "rm(",
     "library": "var_list.r",
     "varRefreshCmd": "cat(var_dic_list()) "
    }
   },
   "types_to_exclude": [
    "module",
    "function",
    "builtin_function_or_method",
    "instance",
    "_Feature"
   ],
   "window_display": false
  }
 },
 "nbformat": 4,
 "nbformat_minor": 1
}
